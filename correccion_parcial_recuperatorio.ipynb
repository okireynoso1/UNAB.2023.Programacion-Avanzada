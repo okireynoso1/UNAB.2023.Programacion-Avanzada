{
  "nbformat": 4,
  "nbformat_minor": 0,
  "metadata": {
    "colab": {
      "provenance": [],
      "authorship_tag": "ABX9TyOEDXhi68iQlZTGxIdvZVaq",
      "include_colab_link": true
    },
    "kernelspec": {
      "name": "python3",
      "display_name": "Python 3"
    },
    "language_info": {
      "name": "python"
    }
  },
  "cells": [
    {
      "cell_type": "markdown",
      "metadata": {
        "id": "view-in-github",
        "colab_type": "text"
      },
      "source": [
        "<a href=\"https://colab.research.google.com/github/okireynoso1/UNAB.2023.Programacion-Avanzada/blob/main/correccion_parcial_recuperatorio.ipynb\" target=\"_parent\"><img src=\"https://colab.research.google.com/assets/colab-badge.svg\" alt=\"Open In Colab\"/></a>"
      ]
    },
    {
      "cell_type": "code",
      "source": [
        "#correcion paarcial recuperatorio\n",
        "# Octavio Reynoso\n",
        "# 41 211 111 \n",
        "# programacion avanzada\n",
        "# 6/7/2023"
      ],
      "metadata": {
        "id": "qxFXzIQ2bOUc"
      },
      "execution_count": null,
      "outputs": []
    },
    {
      "cell_type": "code",
      "execution_count": 8,
      "metadata": {
        "colab": {
          "base_uri": "https://localhost:8080/"
        },
        "id": "fbkBFUrvYdYS",
        "outputId": "7921bbe4-1baf-4fa1-a101-5172cb6a168f"
      },
      "outputs": [
        {
          "output_type": "stream",
          "name": "stdout",
          "text": [
            "Excel 365 50 mm\n"
          ]
        }
      ],
      "source": [
        "class Application():\n",
        "  def __init__(self, tipo):\n",
        "    self.tipo = tipo\n",
        "\n",
        "class Worksheets(Application):\n",
        "  def __init__(self, tipo, version):\n",
        "    super().__init__(tipo)\n",
        "    self.version = version\n",
        "\n",
        "class Columns(Worksheets):\n",
        "  def __init__(self, tipo, version, ancho):\n",
        "    super().__init__(tipo, version)\n",
        "    self.ancho = ancho\n",
        "\n",
        "# Algunos ingresos para probar el código:\n",
        "g = Columns(\"Excel\", \"365\", \"50 mm\")\n",
        "print(g.tipo, g.version, g.ancho)\n"
      ]
    },
    {
      "cell_type": "code",
      "source": [
        "#ejercicio 2\n",
        "\n",
        "class Vehiculo():\n",
        "  def __init__(self, matricula, marca, modelo):\n",
        "    self.matricula = matricula\n",
        "    self.marca = marca\n",
        "    self.modelo = modelo\n",
        "\n",
        "  def imprime_mensaje(self):\n",
        "    print(\"Su vehículo es:\", self.matricula, self.marca, self.modelo, \"¡No se olvide de hacer la VTV!\")\n",
        "\n",
        "class Coche(Vehiculo):\n",
        "  def __init__(self, matricula, marca, modelo, anchura, altura):\n",
        "    super().__init__(matricula, marca, modelo)\n",
        "    self.anchura = anchura\n",
        "    self.altura = altura\n",
        "\n",
        "  def anchurayaltura(self):\n",
        "    if self.anchura / self.altura > 1:\n",
        "      print(\"Todo bien, su auto es más ancho que alto.\")\n",
        "    else:\n",
        "      print(\"Chequee las medidas, hay un error.\")\n",
        "\n",
        "class Moto(Vehiculo):\n",
        "  def __init__(self, matricula, marca, modelo, limitador):\n",
        "    super().__init__(matricula, marca, modelo)\n",
        "    self.limitador = limitador\n",
        "\n",
        "  def mostrar_limitador(self):\n",
        "    if self.limitador:\n",
        "      print(\"Su moto es:\", self.matricula, self.marca, self.modelo)\n",
        "      print(\"Usted puede circular\")\n",
        "    else:\n",
        "      print(\"Su moto es:\", self.matricula, self.marca, self.modelo)\n",
        "      print(\"Usted NO puede circular\")\n",
        "\n",
        "# Algunos ingresos para probar el código:\n",
        "v = Coche(\"AGG123\", \"Fiat\", \"Uno\", 2, 3)\n",
        "v.anchurayaltura()\n",
        "\n",
        "m = Moto(\"AB123OO\", \"BMW\", \"Genérico\", False)\n",
        "m.mostrar_limitador()\n",
        "\n",
        "z = Vehiculo(\"HRN219\", \"Renault\", \"Clio\")\n",
        "z.imprime_mensaje()\n"
      ],
      "metadata": {
        "colab": {
          "base_uri": "https://localhost:8080/"
        },
        "id": "IZrxGckhY5W5",
        "outputId": "83f4db2f-9ca9-45a3-ce31-8763f710e0b3"
      },
      "execution_count": 13,
      "outputs": [
        {
          "output_type": "stream",
          "name": "stdout",
          "text": [
            "Chequee las medidas, hay un error.\n",
            "Su moto es: AB123OO BMW Genérico\n",
            "Usted NO puede circular\n",
            "Su vehículo es: HRN219 Renault Clio ¡No se olvide de hacer la VTV!\n"
          ]
        }
      ]
    },
    {
      "cell_type": "code",
      "source": [
        "import random\n",
        "\n",
        "class Lista():\n",
        "  def __init__(self, nombre):\n",
        "    self.lista = []\n",
        "    self.nombre = nombre\n",
        "    i = 0\n",
        "    while i < 10:\n",
        "      self.lista.append(int(random.randint(0, 10)))\n",
        "      i = i + 1\n",
        "  \n",
        "  def buscarElemento(self, elemento):\n",
        "    for i in range(0, len(self.lista)):\n",
        "      if self.lista[i] == elemento:\n",
        "        return i\n",
        "    return -1\n",
        "  \n",
        "  def imprimirLista(self):\n",
        "    for i in range(0, len(self.lista)):\n",
        "      print(self.nombre, \"[\", i, \"]= \", self.lista[i])\n",
        "\n",
        "# Algunos ingresos para probar el código:\n",
        "a = Lista(\"Mi lista\")\n",
        "a.imprimirLista()\n",
        "a.buscarElemento(10)\n"
      ],
      "metadata": {
        "colab": {
          "base_uri": "https://localhost:8080/"
        },
        "id": "foHGD9krY5Hy",
        "outputId": "6cb6d635-86db-4ea1-bc8b-f6c6143f2700"
      },
      "execution_count": 14,
      "outputs": [
        {
          "output_type": "stream",
          "name": "stdout",
          "text": [
            "Mi lista [ 0 ]=  7\n",
            "Mi lista [ 1 ]=  7\n",
            "Mi lista [ 2 ]=  6\n",
            "Mi lista [ 3 ]=  0\n",
            "Mi lista [ 4 ]=  0\n",
            "Mi lista [ 5 ]=  6\n",
            "Mi lista [ 6 ]=  3\n",
            "Mi lista [ 7 ]=  5\n",
            "Mi lista [ 8 ]=  9\n",
            "Mi lista [ 9 ]=  2\n"
          ]
        },
        {
          "output_type": "execute_result",
          "data": {
            "text/plain": [
              "-1"
            ]
          },
          "metadata": {},
          "execution_count": 14
        }
      ]
    }
  ]
}